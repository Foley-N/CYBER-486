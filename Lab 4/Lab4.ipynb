{
 "cells": [
  {
   "cell_type": "markdown",
   "metadata": {},
   "source": [
    "1. Splitting the data into 80% training and 20% testing sets"
   ]
  },
  {
   "cell_type": "code",
   "execution_count": 68,
   "metadata": {},
   "outputs": [
    {
     "name": "stdout",
     "output_type": "stream",
     "text": [
      "The dimension of x_train is (404, 11)\n",
      "The dimension of x_test is (102, 11)\n"
     ]
    }
   ],
   "source": [
    "import pandas as pd\n",
    "import numpy as np\n",
    "import seaborn as sns\n",
    "import matplotlib.pyplot as plt\n",
    "from sklearn.model_selection import train_test_split\n",
    "from sklearn.preprocessing import StandardScaler\n",
    "from sklearn.preprocessing import PolynomialFeatures\n",
    "from sklearn.linear_model import LinearRegression\n",
    "from sklearn.linear_model import Ridge, RidgeCV, Lasso, LassoCV\n",
    "from sklearn.metrics import mean_squared_error\n",
    "from sklearn.metrics import r2_score\n",
    "\n",
    "\n",
    "\n",
    "\n",
    "data = pd.read_csv('BostonHousing.csv',sep =',')\n",
    "df = pd.DataFrame(data)\n",
    "\n",
    "features = df.columns[0:11]\n",
    "target = df.columns[-1]\n",
    "\n",
    "x = df[features]#.values\n",
    "y = df[target]#.values\n",
    "x_train, x_test, y_train, y_test = train_test_split(x, y, test_size=0.2, random_state=104)\n",
    "\n",
    "print(\"The dimension of x_train is {}\".format(x_train.shape))\n",
    "print(\"The dimension of x_test is {}\".format(x_test.shape))\n",
    "\n",
    "scaler = StandardScaler()\n",
    "x_train = scaler.fit_transform(x_train)\n",
    "x_test =  scaler.transform(x_test)\n"
   ]
  },
  {
   "cell_type": "markdown",
   "metadata": {},
   "source": [
    "2. Use the training dataset to build the linear regression model from the previous lab"
   ]
  },
  {
   "cell_type": "code",
   "execution_count": 69,
   "metadata": {},
   "outputs": [
    {
     "name": "stdout",
     "output_type": "stream",
     "text": [
      "The train score for lr model is 0.720463488678486\n",
      "The test score for lr model 0.44269038521456483\n"
     ]
    }
   ],
   "source": [
    "lr = LinearRegression()\n",
    "lr.fit(x_train, y_train)\n",
    "\n",
    "prediction = lr.predict(x_test)\n",
    "actual = y_test\n",
    "\n",
    "train_score_lr = lr.score(x_train, y_train)\n",
    "test_score_lr = lr.score(x_test, y_test)\n",
    "\n",
    "print(\"The train score for lr model is {}\".format(train_score_lr))\n",
    "print(\"The test score for lr model {}\".format(test_score_lr))"
   ]
  },
  {
   "cell_type": "markdown",
   "metadata": {},
   "source": [
    "3. Use the training dataset to build a polynomial regression model for the given degree"
   ]
  },
  {
   "cell_type": "code",
   "execution_count": 70,
   "metadata": {},
   "outputs": [
    {
     "data": {
      "text/plain": [
       "LinearRegression()"
      ]
     },
     "execution_count": 70,
     "metadata": {},
     "output_type": "execute_result"
    }
   ],
   "source": [
    "poly = PolynomialFeatures(degree=2, include_bias=False)\n",
    "x_poly = poly.fit_transform(x)\n",
    "poly_X_train, poly_X_test, poly_y_train, poly_y_test = (\n",
    "    train_test_split(x_poly, y, test_size=0.2, random_state=42))\n",
    "\n",
    "polyModel = LinearRegression()\n",
    "polyModel.fit(poly_X_train, poly_y_train)\n",
    "\n",
    "\n"
   ]
  },
  {
   "cell_type": "markdown",
   "metadata": {},
   "source": [
    "4. Use the training dataset to build the Lasso and Ridge regression models"
   ]
  },
  {
   "cell_type": "code",
   "execution_count": 71,
   "metadata": {},
   "outputs": [
    {
     "name": "stdout",
     "output_type": "stream",
     "text": [
      "Ridge regression\n",
      "The train score for ridge model is 0.7204634886640644\n",
      "The test score for ridge model is 0.44269008761656337\n",
      "\n",
      "Lasso regression\n",
      "The train score for ls model is 0.0\n",
      "The test score for ls model is -0.00045472590128947665\n"
     ]
    }
   ],
   "source": [
    "ridgeRegression = Ridge(alpha=.001)\n",
    "ridgeRegression.fit(x_train,y_train)\n",
    "train_score_ridge = ridgeRegression.score(x_train, y_train)\n",
    "test_score_ridge = ridgeRegression.score(x_test,y_test)\n",
    "\n",
    "ridgePred = ridgeRegression.predict(x_test)\n",
    "actual = y_test\n",
    "\n",
    "print(\"Ridge regression\")\n",
    "print(\"The train score for ridge model is {}\".format(train_score_ridge))\n",
    "print(\"The test score for ridge model is {}\".format(test_score_ridge))\n",
    "\n",
    "lasso = Lasso(alpha = 10)\n",
    "lasso.fit(x_train,y_train)\n",
    "train_score_ls =lasso.score(x_train,y_train)\n",
    "test_score_ls =lasso.score(x_test,y_test)\n",
    "\n",
    "lassoPred = lasso.predict(x_test)\n",
    "lassoActual = y_test\n",
    "\n",
    "\n",
    "print(\"\\nLasso regression\")\n",
    "print(\"The train score for ls model is {}\".format(train_score_ls))\n",
    "print(\"The test score for ls model is {}\".format(test_score_ls))\n"
   ]
  },
  {
   "cell_type": "markdown",
   "metadata": {},
   "source": [
    "5. Compare the performance of the models using RMSE and R2-score\n"
   ]
  },
  {
   "cell_type": "code",
   "execution_count": 72,
   "metadata": {},
   "outputs": [
    {
     "name": "stdout",
     "output_type": "stream",
     "text": [
      "Linear Regression: \n",
      "\n",
      "MSRE:  47.0338615711257\n",
      "r2-score:  0.44269038521456483\n",
      "\n",
      "Polynomial Regression\n",
      "MSRE:  47.0338615711257\n",
      "r2-score:  0.44269038521456483\n",
      "\n",
      "Ridge Regression\n",
      "MSRE:  47.033886686757725\n",
      "r2-score:  0.44269008761656337\n",
      "\n",
      "Lasso Regression\n",
      "MSRE:  84.4328679029449\n",
      "r2-score:  -0.00045472590128947665\n"
     ]
    }
   ],
   "source": [
    "print(\"Linear Regression: \\n\")\n",
    "print(\"MSRE: \", mean_squared_error(actual,prediction))\n",
    "print(\"r2-score: \",r2_score(actual,prediction))\n",
    "\n",
    "print(\"\\nPolynomial Regression\")\n",
    "print(\"MSRE: \", mean_squared_error(actual,prediction))\n",
    "print(\"r2-score: \",r2_score(actual,prediction))\n",
    "\n",
    "print(\"\\nRidge Regression\")\n",
    "print(\"MSRE: \", mean_squared_error(actual,ridgePred))\n",
    "print(\"r2-score: \",r2_score(y_test,ridgePred))\n",
    "\n",
    "print(\"\\nLasso Regression\")\n",
    "print(\"MSRE: \", mean_squared_error(actual,lassoPred))\n",
    "print(\"r2-score: \",r2_score(actual,lassoPred))"
   ]
  }
 ],
 "metadata": {
  "kernelspec": {
   "display_name": "base",
   "language": "python",
   "name": "python3"
  },
  "language_info": {
   "codemirror_mode": {
    "name": "ipython",
    "version": 3
   },
   "file_extension": ".py",
   "mimetype": "text/x-python",
   "name": "python",
   "nbconvert_exporter": "python",
   "pygments_lexer": "ipython3",
   "version": "3.9.7"
  },
  "orig_nbformat": 4
 },
 "nbformat": 4,
 "nbformat_minor": 2
}
